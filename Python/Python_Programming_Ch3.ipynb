{
 "cells": [
  {
   "cell_type": "markdown",
   "id": "d3c349fb",
   "metadata": {},
   "source": [
    "## 반복문\n",
    "* for 문"
   ]
  },
  {
   "cell_type": "code",
   "execution_count": 1,
   "id": "4ae001cb",
   "metadata": {},
   "outputs": [
    {
     "name": "stdout",
     "output_type": "stream",
     "text": [
      "1\n",
      "2\n",
      "3\n"
     ]
    }
   ],
   "source": [
    "#for 문에 리스트 사용\n",
    "nums = [1,2,3]\n",
    "for x in nums:\n",
    "    print(x)"
   ]
  },
  {
   "cell_type": "code",
   "execution_count": 2,
   "id": "abbdf4eb",
   "metadata": {},
   "outputs": [
    {
     "name": "stdout",
     "output_type": "stream",
     "text": [
      "6\n"
     ]
    }
   ],
   "source": [
    "#for 문에 range사용\n",
    "nums = range(10) # range(0, 10)\n",
    "nums = range(1,4)\n",
    "sum = 0\n",
    "for x in nums:\n",
    "    sum = sum + x\n",
    "print(sum)"
   ]
  },
  {
   "cell_type": "code",
   "execution_count": 3,
   "id": "7b466dc4",
   "metadata": {},
   "outputs": [
    {
     "name": "stdout",
     "output_type": "stream",
     "text": [
      "1\n"
     ]
    }
   ],
   "source": [
    "#for 중단하기 -break\n",
    "nums = [1,2,3]\n",
    "for x in nums:\n",
    "    if x > 1: break\n",
    "    print(x)"
   ]
  },
  {
   "cell_type": "code",
   "execution_count": 4,
   "id": "353a3f02",
   "metadata": {},
   "outputs": [
    {
     "name": "stdout",
     "output_type": "stream",
     "text": [
      "1\n",
      "3\n"
     ]
    }
   ],
   "source": [
    "#for 스킵하기 -continue\n",
    "nums = [1,2,3]\n",
    "for x in nums:\n",
    "    if x % 2 == 0: continue\n",
    "    print(x)"
   ]
  },
  {
   "cell_type": "markdown",
   "id": "1cf102b6",
   "metadata": {},
   "source": [
    "## for 문 사용 시 주의할 점\n",
    "* 들여쓰기 주의해야 한다.\n",
    "* 조건문에 사용되는 변수의 값을 기억하며 코딩해야 한다."
   ]
  },
  {
   "cell_type": "markdown",
   "id": "0152d9d6",
   "metadata": {},
   "source": [
    "## 반복문\n",
    "* while 문"
   ]
  },
  {
   "cell_type": "code",
   "execution_count": 5,
   "id": "3e181d4e",
   "metadata": {},
   "outputs": [
    {
     "name": "stdout",
     "output_type": "stream",
     "text": [
      "1\n",
      "2\n",
      "3\n",
      "4\n",
      "5\n",
      "6\n",
      "7\n",
      "8\n",
      "9\n"
     ]
    }
   ],
   "source": [
    "#while 문\n",
    "a = 1\n",
    "while a < 10:\n",
    "    print(a)\n",
    "    a += 1"
   ]
  },
  {
   "cell_type": "code",
   "execution_count": 6,
   "id": "d61c8a58",
   "metadata": {},
   "outputs": [
    {
     "name": "stdout",
     "output_type": "stream",
     "text": [
      "1\n"
     ]
    }
   ],
   "source": [
    "#while 중단하기 -break\n",
    "a = 1\n",
    "while a < 10:\n",
    "    print(a)\n",
    "    a += 1\n",
    "    if a >= 2:break"
   ]
  },
  {
   "cell_type": "code",
   "execution_count": 7,
   "id": "7b682e23",
   "metadata": {},
   "outputs": [
    {
     "name": "stdout",
     "output_type": "stream",
     "text": [
      "2\n",
      "4\n",
      "6\n",
      "8\n",
      "10\n"
     ]
    }
   ],
   "source": [
    "#while 스킵하기 -continue\n",
    "a = 1\n",
    "while a < 10:\n",
    "    a += 1\n",
    "    if a % 2 == 1:continue\n",
    "    print(a)"
   ]
  },
  {
   "cell_type": "markdown",
   "id": "bb25d2db",
   "metadata": {},
   "source": [
    "## while 문 사용 시 주의할 점\n",
    "* 들여쓰기 주의해야 한다.\n",
    "* 조건문에 사용되는 변수의 값을 기억하며 코딩해야 한다."
   ]
  },
  {
   "cell_type": "code",
   "execution_count": null,
   "id": "74832e26",
   "metadata": {},
   "outputs": [],
   "source": [
    "#무한반복문\n",
    "a = 1\n",
    "while a < 10:\n",
    "    print(a)\n",
    "    \n",
    "while True:\n",
    "    print(a)"
   ]
  },
  {
   "cell_type": "markdown",
   "id": "427324eb",
   "metadata": {},
   "source": [
    "## 중첩반복문\n",
    "* for 문"
   ]
  },
  {
   "cell_type": "code",
   "execution_count": 8,
   "id": "34056c9e",
   "metadata": {},
   "outputs": [
    {
     "name": "stdout",
     "output_type": "stream",
     "text": [
      "2\n",
      "4\n",
      "뿅\n",
      "3\n",
      "6\n",
      "뿅\n"
     ]
    }
   ],
   "source": [
    "#중첩반복문\n",
    "for x1 in [2,3]:\n",
    "    for x2 in [1,2]:\n",
    "        print(x1*x2)\n",
    "    print(\"뿅\")"
   ]
  },
  {
   "cell_type": "code",
   "execution_count": 9,
   "id": "b8681e9a",
   "metadata": {},
   "outputs": [
    {
     "name": "stdout",
     "output_type": "stream",
     "text": [
      "2\n",
      "4\n",
      "6\n",
      "8\n",
      "10\n",
      "12\n",
      "14\n",
      "16\n",
      "18\n",
      "3\n",
      "6\n",
      "9\n",
      "12\n",
      "15\n",
      "18\n",
      "21\n",
      "24\n",
      "27\n",
      "4\n",
      "8\n",
      "12\n",
      "16\n",
      "20\n",
      "24\n",
      "28\n",
      "32\n",
      "36\n",
      "5\n",
      "10\n",
      "15\n",
      "20\n",
      "25\n",
      "30\n",
      "35\n",
      "40\n",
      "45\n",
      "6\n",
      "12\n",
      "18\n",
      "24\n",
      "30\n",
      "36\n",
      "42\n",
      "48\n",
      "54\n",
      "7\n",
      "14\n",
      "21\n",
      "28\n",
      "35\n",
      "42\n",
      "49\n",
      "56\n",
      "63\n",
      "8\n",
      "16\n",
      "24\n",
      "32\n",
      "40\n",
      "48\n",
      "56\n",
      "64\n",
      "72\n",
      "9\n",
      "18\n",
      "27\n",
      "36\n",
      "45\n",
      "54\n",
      "63\n",
      "72\n",
      "81\n"
     ]
    }
   ],
   "source": [
    "#구구단\n",
    "for x1 in range(2,10):\n",
    "    for x2 in range(1,10):\n",
    "        print(x1*x2)"
   ]
  }
 ],
 "metadata": {
  "kernelspec": {
   "display_name": "Python 3 (ipykernel)",
   "language": "python",
   "name": "python3"
  },
  "language_info": {
   "codemirror_mode": {
    "name": "ipython",
    "version": 3
   },
   "file_extension": ".py",
   "mimetype": "text/x-python",
   "name": "python",
   "nbconvert_exporter": "python",
   "pygments_lexer": "ipython3",
   "version": "3.9.7"
  }
 },
 "nbformat": 4,
 "nbformat_minor": 5
}
