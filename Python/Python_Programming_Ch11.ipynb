{
 "cells": [
  {
   "cell_type": "markdown",
   "id": "ed0d2af8",
   "metadata": {},
   "source": [
    "## 정규표현식 : Regular Expression"
   ]
  },
  {
   "cell_type": "code",
   "execution_count": 2,
   "id": "a714ed7e",
   "metadata": {},
   "outputs": [
    {
     "name": "stdout",
     "output_type": "stream",
     "text": [
      "re.compile('0')\n",
      "<re.Match object; span=(0, 1), match='0'>\n",
      "None\n",
      "<re.Match object; span=(0, 1), match='0'>\n",
      "None\n"
     ]
    }
   ],
   "source": [
    "# 문자 '0' 인지 맞추기\n",
    "import re # 정규식 관련 모듈\n",
    "p = re.compile(\"0\") # 잡아내고자 하는 패턴에 대한 객체 생성\n",
    "print(p)\n",
    "print(p.match(\"0\")) # 패턴을 기반으로 주어진 텍스트가 매칭 되는지 체크\n",
    "print(p.match(\"a\"))\n",
    "print(p.match(\"0a\"))\n",
    "print(p.match(\"a0\")) # 한 글자만 체크하는 점에 주목"
   ]
  },
  {
   "cell_type": "code",
   "execution_count": 3,
   "id": "33b5276e",
   "metadata": {},
   "outputs": [
    {
     "name": "stdout",
     "output_type": "stream",
     "text": [
      "<re.Match object; span=(0, 1), match='0'>\n",
      "<re.Match object; span=(0, 1), match='0'>\n",
      "(0, 1)\n"
     ]
    }
   ],
   "source": [
    "# match 함수 결과물 활용\n",
    "import re\n",
    "p = re.compile(\"0\")\n",
    "print(p.match(\"0\"))\n",
    "x = p.match(\"0\")\n",
    "print(x)\n",
    "dir(x)\n",
    "print(x.span())"
   ]
  },
  {
   "cell_type": "code",
   "execution_count": 7,
   "id": "d9336d27",
   "metadata": {},
   "outputs": [
    {
     "name": "stdout",
     "output_type": "stream",
     "text": [
      "None\n",
      "None\n",
      "<re.Match object; span=(0, 3), match='010'>\n",
      "None\n",
      "None\n",
      "None\n",
      "None\n",
      "<re.Match object; span=(0, 3), match='010'>\n",
      "None\n"
     ]
    }
   ],
   "source": [
    "# 010,011,016,017,018,019 인지 맞추기\n",
    "import re\n",
    "p = re.compile(\"01[016789]\")\n",
    "print(p.match(\"0\"))\n",
    "print(p.match(\"01\"))\n",
    "print(p.match(\"010\"))\n",
    "print(p.match(\"013\"))\n",
    "print(p.match(\"013010\")) # 3글자만 체크하는 것에 주목\n",
    "p2 = re.compile(\"01(0|1|6|7|8|9)\") #어떤 패턴을 잡아낼까?\n",
    "print(p2.match(\"0\"))\n",
    "print(p2.match(\"01\"))\n",
    "print(p2.match(\"010\"))\n",
    "print(p2.match(\"013\"))\n",
    "#print(p2.match(\"013010\") Error"
   ]
  },
  {
   "cell_type": "markdown",
   "id": "fc6e7780",
   "metadata": {},
   "source": [
    "# re.compile()\n",
    "```python\n",
    "example\n",
    "re.compile(\"01[1-3][7-9]\")\n",
    "# 첫글자 = \"0\"\n",
    "# 두번째글자 = \"1\"\n",
    "# 세번째글자 = 1~3, 7~9\n",
    "```"
   ]
  },
  {
   "cell_type": "code",
   "execution_count": 8,
   "id": "8c7b42be",
   "metadata": {},
   "outputs": [
    {
     "name": "stdout",
     "output_type": "stream",
     "text": [
      "None\n",
      "<re.Match object; span=(0, 3), match='135'>\n",
      "<re.Match object; span=(0, 4), match='1357'>\n",
      "<re.Match object; span=(0, 3), match='115'>\n",
      "<re.Match object; span=(0, 4), match='1155'>\n"
     ]
    }
   ],
   "source": [
    "# 0 으로 시작하지 않는 3~4자리 숫자 맞추기\n",
    "import re\n",
    "p = re.compile(\"[1-9][0-9][0-9][0-9]?\") #?는 해당 부분이 있어도 없어도 만족\n",
    "print(p.match(\"0136\"))\n",
    "print(p.match(\"135\"))\n",
    "print(p.match(\"1357\"))\n",
    "print(p.match(\"115aa\"))\n",
    "print(p.match(\"1155aa\"))"
   ]
  },
  {
   "cell_type": "code",
   "execution_count": 9,
   "id": "4a0cdb4b",
   "metadata": {},
   "outputs": [
    {
     "name": "stdout",
     "output_type": "stream",
     "text": [
      "<re.Match object; span=(0, 13), match='010-1234-5678'>\n",
      "None\n"
     ]
    }
   ],
   "source": [
    "#핸드폰 번호인지 맞추기\n",
    "import re\n",
    "p = re.compile(\"01[016789]-[1-9][0-9][0-9][0-9]?-[0-9][0-9][0-9][0-9]\")\n",
    "print(p.match(\"010-1234-5678\"))\n",
    "print(p.match(\"070-136-7777\"))"
   ]
  },
  {
   "cell_type": "code",
   "execution_count": 12,
   "id": "f5135883",
   "metadata": {},
   "outputs": [
    {
     "name": "stdout",
     "output_type": "stream",
     "text": [
      "<re.Match object; span=(0, 1), match='a'>\n",
      "<re.Match object; span=(0, 3), match='aaa'>\n",
      "<re.Match object; span=(0, 2), match='aa'>\n",
      "None\n",
      "<re.Match object; span=(0, 3), match='abc'>\n",
      "<re.Match object; span=(0, 4), match='abcd'>\n",
      "<re.Match object; span=(0, 2), match='ab'>\n",
      "None\n",
      "<re.Match object; span=(0, 2), match='AB'>\n",
      "<re.Match object; span=(0, 4), match='aBcD'>\n",
      "<re.Match object; span=(0, 3), match='abc'>\n",
      "<re.Match object; span=(0, 4), match='abcd'>\n",
      "<re.Match object; span=(0, 2), match='ab'>\n",
      "<re.Match object; span=(0, 0), match=''>\n",
      "<re.Match object; span=(0, 3), match='abc'>\n",
      "<re.Match object; span=(0, 4), match='abcd'>\n",
      "None\n",
      "<re.Match object; span=(0, 5), match='abcde'>\n",
      "<re.Match object; span=(0, 2), match='ab'>\n"
     ]
    }
   ],
   "source": [
    "#문자\n",
    "import re\n",
    "p = re.compile(\"a+\")\n",
    "print(p.match(\"a\"))\n",
    "print(p.match(\"aaa\"))\n",
    "print(p.match(\"aabba\"))\n",
    "print(p.match(\"bbaa\"))\n",
    "p =re.compile(\"[a-z]+\")\n",
    "print(p.match(\"abc\"))\n",
    "print(p.match(\"abcd123\"))\n",
    "print(p.match(\"abAB\"))\n",
    "print(p.match(\"11aabb\"))\n",
    "p = re.compile(\"[A-Z]+\")\n",
    "print(p.match(\"ABab\"))\n",
    "p = re.compile(\"[a-zA-Z]+\")\n",
    "print(p.match(\"aBcD\"))\n",
    "#0개 이상의 알파벳\n",
    "p = re.compile(\"[a-z]*\")\n",
    "print(p.match(\"abc\"))\n",
    "print(p.match(\"abcd123\"))\n",
    "print(p.match(\"abAB\"))\n",
    "print(p.match(\"\"))\n",
    "# 2~4개의 알파벳\n",
    "p = re.compile(\"[a-z]{2,4}\")\n",
    "print(p.match(\"abc\"))\n",
    "print(p.match(\"abcde123\"))\n",
    "print(p.match(\"a\"))\n",
    "p = re.compile(\"[a-z]{2,}\")\n",
    "print(p.match(\"abcde123\"))\n",
    "p = re.compile(\"[a-z]{,2}\")\n",
    "print(p.match(\"abcde123\"))"
   ]
  },
  {
   "cell_type": "code",
   "execution_count": 13,
   "id": "c58a0de0",
   "metadata": {},
   "outputs": [
    {
     "name": "stdout",
     "output_type": "stream",
     "text": [
      "<re.Match object; span=(0, 3), match='9cc'>\n",
      "None\n",
      "<re.Match object; span=(0, 3), match='9.a'>\n",
      "<re.Match object; span=(0, 3), match='9aa'>\n",
      "None\n",
      "<re.Match object; span=(0, 1), match='a'>\n"
     ]
    }
   ],
   "source": [
    "#1개의 숫자, 1개의 임의의글자 1개의 알파벳\n",
    "p = re.compile(\"[0-9].[a-z]\")\n",
    "print(p.match(\"9cc9\"))\n",
    "p = re.compile(\"[0-9][a.][a-z]\")\n",
    "print(p.match(\"9cc9\"))\n",
    "print(p.match(\"9.a\"))\n",
    "print(p.match(\"9aa\"))\n",
    "#1개의 숫자가 아닌 모든 문자\n",
    "p = re.compile(\"[^0-9]\")\n",
    "print(p.match(\"9\"))\n",
    "print(p.match(\"ab\"))"
   ]
  },
  {
   "cell_type": "markdown",
   "id": "ff033e26",
   "metadata": {},
   "source": [
    "## 자주 사용되는 것들\n",
    "* [0-9] == \\d \n",
    "* [^0-9] == \\D\n",
    "* [\\t\\n\\r\\f\\v] == \\s\n",
    "* [^\\t\\n\\r\\f\\v] == \\S\n",
    "* [a-zA-Z0-9] == \\w\n",
    "* [^a-zA-Z0-9] == \\W"
   ]
  }
 ],
 "metadata": {
  "kernelspec": {
   "display_name": "Python 3",
   "language": "python",
   "name": "python3"
  },
  "language_info": {
   "codemirror_mode": {
    "name": "ipython",
    "version": 3
   },
   "file_extension": ".py",
   "mimetype": "text/x-python",
   "name": "python",
   "nbconvert_exporter": "python",
   "pygments_lexer": "ipython3",
   "version": "3.8.8"
  }
 },
 "nbformat": 4,
 "nbformat_minor": 5
}
