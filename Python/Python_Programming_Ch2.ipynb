{
 "cells": [
  {
   "cell_type": "markdown",
   "id": "0e1a06b2",
   "metadata": {},
   "source": [
    "## 조건문\n",
    "* if\n",
    "* elif\n",
    "* else"
   ]
  },
  {
   "cell_type": "code",
   "execution_count": 2,
   "id": "5ed4ae84",
   "metadata": {},
   "outputs": [
    {
     "name": "stdout",
     "output_type": "stream",
     "text": [
      "하하\n"
     ]
    }
   ],
   "source": [
    "#기본 if 문\n",
    "a = 15\n",
    "if a > 10:\n",
    "    print(\"하하\")\n",
    "\n",
    "if a > 20:\n",
    "    print(\"하하\")"
   ]
  },
  {
   "cell_type": "code",
   "execution_count": 3,
   "id": "9b230a6d",
   "metadata": {},
   "outputs": [
    {
     "name": "stdout",
     "output_type": "stream",
     "text": [
      "haha\n"
     ]
    }
   ],
   "source": [
    "#if-else 문\n",
    "a = 15\n",
    "if a > 20:\n",
    "    print(\"하하\")\n",
    "else:\n",
    "    print(\"haha\")"
   ]
  },
  {
   "cell_type": "markdown",
   "id": "e475c505",
   "metadata": {},
   "source": [
    "## 프로그램 작성 시 주의할점\n",
    "* Python console 창에서는 한 개의 제어문(명령문) 블록 단위로 처리한다.\n",
    "* 대소문자 구분하여 작성해야한다\n",
    "* Python 은 '들여쓰기' 가 같은 것 끼리 같은 블록 단위로 취급한다"
   ]
  },
  {
   "cell_type": "code",
   "execution_count": 4,
   "id": "a6886269",
   "metadata": {},
   "outputs": [
    {
     "name": "stdout",
     "output_type": "stream",
     "text": [
      "haha\n"
     ]
    }
   ],
   "source": [
    "#if-elif 문\n",
    "a = 15\n",
    "if a > 20:\n",
    "    print(\"하하\")\n",
    "elif a > 10:\n",
    "    print(\"haha\")\n",
    "elif a > 5:\n",
    "    print(\"^^\")\n",
    "else:\n",
    "    pass #아무것도 수행하지 않는다는 뜻"
   ]
  },
  {
   "cell_type": "code",
   "execution_count": 5,
   "id": "01486f33",
   "metadata": {},
   "outputs": [
    {
     "name": "stdout",
     "output_type": "stream",
     "text": [
      "하하\n",
      "^^\n"
     ]
    }
   ],
   "source": [
    "#중첩 조건문\n",
    "a = 15\n",
    "b = 30\n",
    "if a > 10:\n",
    "    print(\"하하\")\n",
    "    if b > 30:\n",
    "        print(\"haha\")\n",
    "    else:\n",
    "        print(\"^^\")"
   ]
  },
  {
   "cell_type": "markdown",
   "id": "7610f874",
   "metadata": {},
   "source": [
    "## If문 사용시 주의할 점\n",
    "* 중첩 조건문 작성시, 들여쓰기 신중하게 체크\n",
    "* if djqtdl else 사용하지 않기\n",
    "* 조건문에서 존재하지 않는 변수 사용하지 않기"
   ]
  },
  {
   "cell_type": "markdown",
   "id": "8bbd98e1",
   "metadata": {},
   "source": [
    "## 자료형의 참/거짓"
   ]
  },
  {
   "cell_type": "code",
   "execution_count": 6,
   "id": "24f363a4",
   "metadata": {},
   "outputs": [
    {
     "name": "stdout",
     "output_type": "stream",
     "text": [
      "참\n",
      "참\n",
      "참\n"
     ]
    }
   ],
   "source": [
    "if True:\n",
    "    print(\"참\")\n",
    "    \n",
    "a = 15\n",
    "if a:\n",
    "    print(\"참\")\n",
    "    \n",
    "if []:\n",
    "    print(\"참\") ## 아무것도 출력 안함\n",
    "    \n",
    "a = \"abcd\"\n",
    "if a:\n",
    "    print(\"참\")"
   ]
  },
  {
   "cell_type": "markdown",
   "id": "b9d11ebd",
   "metadata": {},
   "source": [
    "## 연산자"
   ]
  },
  {
   "cell_type": "code",
   "execution_count": 7,
   "id": "fd2e5d57",
   "metadata": {},
   "outputs": [
    {
     "name": "stdout",
     "output_type": "stream",
     "text": [
      "False\n",
      "True\n",
      "True\n",
      "False\n",
      "True\n",
      "True\n"
     ]
    }
   ],
   "source": [
    "#이항 비교연산자\n",
    "a = 3\n",
    "b = 5.0\n",
    "print(a > b)\n",
    "print(a < b)\n",
    "print(b == 5)\n",
    "print(a != 3)\n",
    "print(a >= 3)\n",
    "print(b <= 6)"
   ]
  },
  {
   "cell_type": "code",
   "execution_count": 8,
   "id": "ea8239db",
   "metadata": {},
   "outputs": [
    {
     "name": "stdout",
     "output_type": "stream",
     "text": [
      "3\n",
      "2\n",
      "6\n",
      "3.0\n",
      "1.0\n",
      "0.0\n"
     ]
    }
   ],
   "source": [
    "#할당연산\n",
    "a = 1\n",
    "b = 2\n",
    "print(a + b)\n",
    "a += 1\n",
    "print(a)\n",
    "b *= 3\n",
    "print(b)\n",
    "b /= a\n",
    "print(b)\n",
    "b %= 2\n",
    "print(b)\n",
    "b //= 2\n",
    "print(b)"
   ]
  },
  {
   "cell_type": "markdown",
   "id": "2973124a",
   "metadata": {},
   "source": [
    "## 비교연산자 사용 시 주의할 점\n",
    "* 대입문과 비교문을 혼동하지 않기"
   ]
  },
  {
   "cell_type": "code",
   "execution_count": 9,
   "id": "6190dffc",
   "metadata": {},
   "outputs": [
    {
     "name": "stdout",
     "output_type": "stream",
     "text": [
      "True\n",
      "True\n",
      "False\n",
      "False\n"
     ]
    }
   ],
   "source": [
    "#이항 논리연산자\n",
    "a = 3\n",
    "b = 5\n",
    "print(a == 3 and b == 5)\n",
    "print(a == 5 or b == 5)\n",
    "print(not a == 3)\n",
    "print(not a == 3 and b == 5)"
   ]
  },
  {
   "cell_type": "code",
   "execution_count": 10,
   "id": "87d71ff5",
   "metadata": {},
   "outputs": [
    {
     "name": "stdout",
     "output_type": "stream",
     "text": [
      "True\n",
      "False\n",
      "True\n",
      "False\n",
      "False\n",
      "True\n"
     ]
    }
   ],
   "source": [
    "#이항 멤버연산자, 식별연산자\n",
    "c = [4,5,6]\n",
    "b = 5\n",
    "print(b in c)\n",
    "print(b not in c)\n",
    "print(b is c[1])\n",
    "print(b is not c[1])\n",
    "print(c is [4,5,6])\n",
    "print(c == [4,5,6])"
   ]
  },
  {
   "cell_type": "code",
   "execution_count": 11,
   "id": "64f254b4",
   "metadata": {},
   "outputs": [
    {
     "name": "stdout",
     "output_type": "stream",
     "text": [
      "True\n",
      "True\n",
      "True\n",
      "False\n",
      "True\n",
      "False\n"
     ]
    }
   ],
   "source": [
    "#문자열에 대한 연산\n",
    "a = \"abc\"\n",
    "print(a == \"abc\")\n",
    "print(a < \"abd\")\n",
    "print(a <= \"abcd\")\n",
    "print(a < \"abc\")\n",
    "print('a' in a and 'c' in a)\n",
    "print(\"ab\" not in a)"
   ]
  },
  {
   "cell_type": "markdown",
   "id": "88c825b5",
   "metadata": {},
   "source": [
    "## 비교/논리연산 시 주의할 점\n",
    "* 비교 혹은 논리 연산이 가능한 대상끼리 연산해야 한다."
   ]
  },
  {
   "cell_type": "code",
   "execution_count": 12,
   "id": "519dc623",
   "metadata": {},
   "outputs": [
    {
     "name": "stdout",
     "output_type": "stream",
     "text": [
      "18\n",
      "9.0\n",
      "2.5\n",
      "True\n",
      "5.0\n",
      "27\n",
      "24\n",
      "0.4\n",
      "0.0\n"
     ]
    }
   ],
   "source": [
    "#복잡한 연산\n",
    "print(3 + 5 * 3)\n",
    "print(3 - 5 / 5 + 7)\n",
    "print(3 - 4 / (5 + 3))\n",
    "print(10 / 5 == 4 / 2)\n",
    "print(10 / (5 == 5) / 2)\n",
    "print(3 ** 2 * 3)\n",
    "print(3 * 2 ** 3)\n",
    "print(2 / 5 % 3)\n",
    "print(2 / 5  //3)"
   ]
  },
  {
   "cell_type": "code",
   "execution_count": 13,
   "id": "c78a0ad3",
   "metadata": {},
   "outputs": [
    {
     "name": "stdout",
     "output_type": "stream",
     "text": [
      "aabb\n",
      "True\n",
      "True\n",
      "True\n",
      "ababab\n",
      "abab\n"
     ]
    }
   ],
   "source": [
    "#다양한 자료형에 대한 연산\n",
    "print(\"aa\" + \"bb\")\n",
    "print(\"aa\" < \"ab\")\n",
    "print(\"aaaa\" < \"ab\")\n",
    "print(\"ab\" < \"aba\")\n",
    "print(\"ab\" * 3)\n",
    "#print(\"ab\" * 3 - 1) Error\n",
    "print(\"ab\" * (3 - 1))\n",
    "#print({\"a\":123,\"b\":456}+{\"c\":789}) Error\n",
    "#print({\"a\":123,\"b\":456}<{\"c\":789}) Error"
   ]
  },
  {
   "cell_type": "code",
   "execution_count": 14,
   "id": "ac192cb3",
   "metadata": {},
   "outputs": [
    {
     "name": "stdout",
     "output_type": "stream",
     "text": [
      "123\n",
      "345\n",
      "345\n",
      "123\n",
      "123\n",
      "456\n",
      "789\n",
      "1\n",
      "1\n",
      "1\n",
      "(123, 456)\n",
      "123\n",
      "456\n"
     ]
    }
   ],
   "source": [
    "#한번에 여러 변수 연산하기\n",
    "[a,b] = [\"123\",\"345\"]\n",
    "print(a)\n",
    "print(b)\n",
    "a, b = b, a\n",
    "print(a)\n",
    "print(b)\n",
    "[a,(b,c)] = [123,(456,789)]\n",
    "print(a)\n",
    "print(b)\n",
    "print(c)\n",
    "#[123,(456,789)] = [a,(b,c)] Error\n",
    "a = b = c = 1\n",
    "print(a)\n",
    "print(b)\n",
    "print(c)\n",
    "a = (b,c) = (123,456)\n",
    "print(a)\n",
    "print(b)\n",
    "print(c)"
   ]
  },
  {
   "cell_type": "markdown",
   "id": "22100776",
   "metadata": {},
   "source": [
    "## 연산자\n",
    "* 비트(bit) 연산자"
   ]
  },
  {
   "cell_type": "code",
   "execution_count": 15,
   "id": "1462e71a",
   "metadata": {},
   "outputs": [
    {
     "name": "stdout",
     "output_type": "stream",
     "text": [
      "0b11\n",
      "0b101\n",
      "0b1\n",
      "0b111\n",
      "0b110\n",
      "0b1\n",
      "-0b100\n",
      "0b1100\n",
      "0b10\n",
      "0b0\n",
      "00000011\n",
      "00000101\n",
      "00001000\n"
     ]
    }
   ],
   "source": [
    "a = 3\n",
    "b = 5\n",
    "print(bin(a))\n",
    "print(bin(b))\n",
    "print(bin(a & b))\n",
    "print(bin(a | b))\n",
    "print(bin(a ^ b))\n",
    "print(bin(a & b))\n",
    "print(bin(~a))\n",
    "print(bin(a << 2))\n",
    "print(bin(b >> 1))\n",
    "print(bin(b >> 5))\n",
    "print(\"{:08b}\".format(a))\n",
    "print(\"{:08b}\".format(b))\n",
    "print(\"{:08b}\".format(a + b))"
   ]
  }
 ],
 "metadata": {
  "kernelspec": {
   "display_name": "Python 3",
   "language": "python",
   "name": "python3"
  },
  "language_info": {
   "codemirror_mode": {
    "name": "ipython",
    "version": 3
   },
   "file_extension": ".py",
   "mimetype": "text/x-python",
   "name": "python",
   "nbconvert_exporter": "python",
   "pygments_lexer": "ipython3",
   "version": "3.8.8"
  }
 },
 "nbformat": 4,
 "nbformat_minor": 5
}
