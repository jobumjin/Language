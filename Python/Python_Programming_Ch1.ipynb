{
 "cells": [
  {
   "cell_type": "markdown",
   "id": "ce5e3827",
   "metadata": {},
   "source": [
    "## 자료형\n",
    "* 숫자\n",
    "* 사칙연산\n",
    "* 그 외 연산"
   ]
  },
  {
   "cell_type": "code",
   "execution_count": 1,
   "id": "2f98833f",
   "metadata": {},
   "outputs": [
    {
     "name": "stdout",
     "output_type": "stream",
     "text": [
      "7 0 -1 0.75 -7\n"
     ]
    }
   ],
   "source": [
    "a = 3 + 4 # 더하기\n",
    "b = 1 * 0 # 곱하기\n",
    "c = 0 - 1 # 빼기\n",
    "d = 3 / 4 # 나누기\n",
    "# e = 10 / Error\n",
    "f = a * c\n",
    "print(a, b, c, d, f)"
   ]
  },
  {
   "cell_type": "code",
   "execution_count": 2,
   "id": "abdbd46e",
   "metadata": {},
   "outputs": [
    {
     "name": "stdout",
     "output_type": "stream",
     "text": [
      "9 2 3 2 0\n"
     ]
    }
   ],
   "source": [
    "a = 3 ** 2 # 3의 2제곱\n",
    "b = 8 % 3 # 나머지\n",
    "c = 3 % 8 # 나머지\n",
    "d = 9 // 4 # 몫\n",
    "e = 1 // 4 # 몫\n",
    "print(a, b, c, d, e)"
   ]
  },
  {
   "cell_type": "code",
   "execution_count": 5,
   "id": "6bc94056",
   "metadata": {},
   "outputs": [
    {
     "name": "stdout",
     "output_type": "stream",
     "text": [
      "0.0 0.0 2.0 0.0\n"
     ]
    }
   ],
   "source": [
    "# 연습문제 1\n",
    "a = 0.0 ** 100\n",
    "# b = 8 % 0  Error\n",
    "c = 0 % 8.0\n",
    "d = 8.1 // 4\n",
    "e = 1 // 4.0\n",
    "print(a, c, d, e)"
   ]
  },
  {
   "cell_type": "code",
   "execution_count": 6,
   "id": "5d72bb39",
   "metadata": {},
   "outputs": [
    {
     "name": "stdout",
     "output_type": "stream",
     "text": [
      "4 4 32\n"
     ]
    }
   ],
   "source": [
    "# 연습문제 2\n",
    "a = 3\n",
    "b = a + 1\n",
    "a = 4\n",
    "d = c + a\n",
    "d = a + a * a\n",
    "d = (a + a) * a\n",
    "print(a, b, d)"
   ]
  },
  {
   "cell_type": "code",
   "execution_count": 7,
   "id": "1f227017",
   "metadata": {},
   "outputs": [
    {
     "name": "stdout",
     "output_type": "stream",
     "text": [
      "8 64 0.0 2.0 0.0\n"
     ]
    }
   ],
   "source": [
    "#연습문제 3\n",
    "a = 2 ** 3\n",
    "b = a ** 2\n",
    "c = b % 1.0\n",
    "d = (c + 2 * 2) // 2\n",
    "e = -d + 2\n",
    "print(a,b,c,d,e)"
   ]
  },
  {
   "cell_type": "markdown",
   "id": "1401dc24",
   "metadata": {},
   "source": [
    "## 자료형\n",
    "* 문자, 문자열"
   ]
  },
  {
   "cell_type": "code",
   "execution_count": 8,
   "id": "c351cd10",
   "metadata": {},
   "outputs": [
    {
     "data": {
      "text/plain": [
       "'abc\\ndef'"
      ]
     },
     "execution_count": 8,
     "metadata": {},
     "output_type": "execute_result"
    }
   ],
   "source": [
    "a = \"abc\\ndef\"\n",
    "a\n",
    "print(a)"
   ]
  },
  {
   "cell_type": "code",
   "execution_count": 11,
   "id": "6ae94422",
   "metadata": {},
   "outputs": [
    {
     "name": "stdout",
     "output_type": "stream",
     "text": [
      "aa\n",
      "bb\n",
      "cc\n"
     ]
    }
   ],
   "source": [
    "b = \"\"\"aa\n",
    "bb\n",
    "cc\"\"\"\n",
    "print(b)"
   ]
  },
  {
   "cell_type": "code",
   "execution_count": 16,
   "id": "449b513e",
   "metadata": {},
   "outputs": [
    {
     "name": "stdout",
     "output_type": "stream",
     "text": [
      "He's said,\n",
      "\"Go!\"\n"
     ]
    }
   ],
   "source": [
    "b = '''He's said,\\n\"Go!\"'''\n",
    "print(b)"
   ]
  },
  {
   "cell_type": "code",
   "execution_count": 17,
   "id": "68def4c3",
   "metadata": {},
   "outputs": [
    {
     "name": "stdout",
     "output_type": "stream",
     "text": [
      "Hello HelloWorld HelloHello\n"
     ]
    }
   ],
   "source": [
    "a = \"Hello\"\n",
    "b = a + \"World\"\n",
    "c = a * 2\n",
    "# d = a * 2.0 Error\n",
    "print(a, b, c)"
   ]
  },
  {
   "cell_type": "code",
   "execution_count": 18,
   "id": "9917f2f5",
   "metadata": {},
   "outputs": [
    {
     "name": "stdout",
     "output_type": "stream",
     "text": [
      "4 2 44 422\n",
      "=====k\n"
     ]
    }
   ],
   "source": [
    "a = \"4\"\n",
    "b = \"2\"\n",
    "c = a * 2\n",
    "d = a + b + b\n",
    "# e = a * b Error\n",
    "print(a,b,c,d)\n",
    "print(\"=\"*5 +\"k\")"
   ]
  },
  {
   "cell_type": "markdown",
   "id": "ccb5c170",
   "metadata": {},
   "source": [
    "# 이스케이프 코드\n",
    "* \\n 개행\n",
    "* \\t 탭(가로)\n",
    "* \\v 탭(세로)\n",
    "* \\\\ 문자\\\n",
    "* \\' 문자'\n",
    "* \\\" 문자\"\n",
    "* \\f 캐리지 리턴\n",
    "* \\a 벨소리\n",
    "* \\b 백스페이스\n",
    "* \\f 폼 피드\n",
    "* \\000 널문자"
   ]
  },
  {
   "cell_type": "markdown",
   "id": "eb4cc962",
   "metadata": {},
   "source": [
    "## 자료형\n",
    "* 리스트"
   ]
  },
  {
   "cell_type": "code",
   "execution_count": 21,
   "id": "ffc697b9",
   "metadata": {},
   "outputs": [
    {
     "name": "stdout",
     "output_type": "stream",
     "text": [
      "['쌀', '김치']\n",
      "[1, 2, 3]\n",
      "['1', '쌀', 2, 2]\n",
      "[]\n",
      "[]\n",
      "['쌀', 10.5]\n",
      "[5, ['a', 'b']]\n",
      "['가', '나', '다', [1, 2, 3]]\n",
      "['가', '나', '다', [[1, 2, 3]]]\n"
     ]
    }
   ],
   "source": [
    "#대입연산\n",
    "target = [\"쌀\",\"김치\"]\n",
    "print(target)\n",
    "target1 = [1, 2, 3]\n",
    "print(target1)\n",
    "target2 = ['1',\"쌀\",2,2]\n",
    "print(target2)\n",
    "target3 = []\n",
    "print(target3)\n",
    "target4 = list()\n",
    "print(target4)\n",
    "target5 = list([\"쌀\",10.5])\n",
    "print(target5)\n",
    "target6 = [5,[\"a\",\"b\"]]\n",
    "print(target6)\n",
    "a = [1,2,3]\n",
    "b = ['가','나','다',a]\n",
    "c = ['가','나','다',[a]]\n",
    "print(b)\n",
    "print(c)"
   ]
  },
  {
   "cell_type": "code",
   "execution_count": 26,
   "id": "729aa1e9",
   "metadata": {},
   "outputs": [
    {
     "name": "stdout",
     "output_type": "stream",
     "text": [
      "[1, 2, 3]\n",
      "1\n",
      "3\n",
      "3\n",
      "1\n"
     ]
    }
   ],
   "source": [
    "#리스트 인덱싱\n",
    "a = [1,2,3]\n",
    "print(a)\n",
    "print(a[0])\n",
    "print(a[2])\n",
    "# a[3] Error\n",
    "b = -1\n",
    "print(a[b])\n",
    "print(a[-3])\n",
    "# a[-4] Error\n",
    "# a[0.5] Error"
   ]
  },
  {
   "cell_type": "code",
   "execution_count": 27,
   "id": "a5a02738",
   "metadata": {},
   "outputs": [
    {
     "name": "stdout",
     "output_type": "stream",
     "text": [
      "[1, 2, 3]\n",
      "[1, 2]\n",
      "[]\n",
      "[1, 2]\n",
      "[]\n",
      "[1, 2]\n",
      "[2, 3]\n",
      "[1, 2, 3]\n"
     ]
    }
   ],
   "source": [
    "#리스트 슬라이싱\n",
    "a = [1,2,3]\n",
    "print(a[0:3])\n",
    "print(a[0:2])\n",
    "# a[0:2.0] Error\n",
    "print(a[0:0])\n",
    "print(a[0:-1])\n",
    "print(a[0:-3])\n",
    "print(a[:2])\n",
    "print(a[1:])\n",
    "print(a[:])"
   ]
  },
  {
   "cell_type": "code",
   "execution_count": 28,
   "id": "b7b1386a",
   "metadata": {},
   "outputs": [
    {
     "name": "stdout",
     "output_type": "stream",
     "text": [
      "[1, 2, 3, 4, 5, 6]\n",
      "[1, 2, 2, 2]\n",
      "[2, 4, 2, 4]\n",
      "[1, 2, 4]\n"
     ]
    }
   ],
   "source": [
    "#리스트 연산\n",
    "a = [1,2,3]\n",
    "b = [4,5,6]\n",
    "print(a + b)\n",
    "#a-b Error\n",
    "a = [1,2]\n",
    "b = [2]\n",
    "print(a + b + b)\n",
    "#a+b-b Error\n",
    "b = [2,4]\n",
    "print(b * 2)\n",
    "#a[0] + b Error\n",
    "print(a[0:1] + b)"
   ]
  },
  {
   "cell_type": "code",
   "execution_count": 29,
   "id": "e601e507",
   "metadata": {},
   "outputs": [
    {
     "name": "stdout",
     "output_type": "stream",
     "text": [
      "[1, 2, 4]\n",
      "[1, 2, 3]\n",
      "[1, 2, 2, 3]\n",
      "[1, [2, 2], 2, 3]\n",
      "[1, 2, 3]\n",
      "[1]\n"
     ]
    }
   ],
   "source": [
    "#리스트 수정/변경\n",
    "a = [1,2,4]\n",
    "print(a)\n",
    "a[2] = 3\n",
    "print(a)\n",
    "a[1:2] = [2,2]\n",
    "print(a)\n",
    "a[1] = [2,2]\n",
    "print(a)\n",
    "a = [1,2,3,4]\n",
    "del a[3]\n",
    "print(a)\n",
    "a[1:3] = []\n",
    "print(a)"
   ]
  },
  {
   "cell_type": "code",
   "execution_count": 32,
   "id": "e11629db",
   "metadata": {},
   "outputs": [
    {
     "name": "stdout",
     "output_type": "stream",
     "text": [
      "True\n",
      "[5, 2, 3] [5, 2, 3]\n",
      "[5, 2] [5, 2]\n",
      "[5, 2] [5, 2]\n",
      "False\n",
      "[1, 2] [5, 2]\n"
     ]
    }
   ],
   "source": [
    "#리스트 얇은복사(참조복사),깊은복사\n",
    "a = [1,2,3]\n",
    "b = a\n",
    "print(b is a)\n",
    "a[0] = 5\n",
    "print(a,b)\n",
    "del(a[2])\n",
    "print(a,b)\n",
    "b = a[:]\n",
    "print(a,b)\n",
    "print(b is a)\n",
    "a[0] =1\n",
    "print(a,b)"
   ]
  },
  {
   "cell_type": "code",
   "execution_count": 33,
   "id": "b37b5907",
   "metadata": {},
   "outputs": [
    {
     "name": "stdout",
     "output_type": "stream",
     "text": [
      "[-1, 1, 3, 5]\n",
      "[5, 3, 1, -1]\n",
      "['', 'a', 'ab', 'b']\n",
      "(1, 2, 3)\n"
     ]
    }
   ],
   "source": [
    "#리스트 정렬하기\n",
    "a = [1,5,3,-1]\n",
    "a.sort()\n",
    "print(a)\n",
    "b = sorted([1,5,3,-1],reverse = True)\n",
    "print(b)\n",
    "a = [1,5,\"a\"]\n",
    "# a.sort() Error\n",
    "a = [\"a\",\"b\",\"ab\",\"\"]\n",
    "a.sort()\n",
    "print(a)\n",
    "b = (1,2,3)\n",
    "#b.sort() Error\n",
    "print(b)"
   ]
  },
  {
   "cell_type": "code",
   "execution_count": 36,
   "id": "8b51d72e",
   "metadata": {},
   "outputs": [
    {
     "name": "stdout",
     "output_type": "stream",
     "text": [
      "[1, 2, 3, 4, 5, 6]\n",
      "[1, 2, 3]\n",
      "[1, 2, 3]\n",
      "3\n",
      "2\n",
      "4\n",
      "[[1, 2, 3], [4, 5, 6], 7, 8, 9]\n",
      "[[1, 2, 3], [4, 5, 6], [4, 5, 6], [7, 8, 9]]\n",
      "5\n",
      "[[1, 2, 3, 4, 5, 6]]\n",
      "5\n",
      "[1, 2, 3, [4, 5, 6, 7, 8, 9]]\n",
      "5\n",
      "[[1, 2, 3], [4, 5, 6]]\n",
      "[[[1, 2, 3], [4, 5, 6]]]\n",
      "[1, 2, 3]\n"
     ]
    }
   ],
   "source": [
    "#다차원리스트\n",
    "d1 = [1,2,3]\n",
    "d2 = [4,5,6]\n",
    "print(d1 + d2)\n",
    "d = [d1,d2]\n",
    "print(d[0])\n",
    "print(d[-2])\n",
    "print(d[0][2])\n",
    "print(d[0][-2])\n",
    "print(d[1][0])\n",
    "d3 = [7,8,9]\n",
    "print(d + d3)\n",
    "d= [d1,d2,d2,d3]\n",
    "print(d)\n",
    "print(d[-2][-2])\n",
    "d = [d1 + d2]\n",
    "print(d)\n",
    "print(d[0][4])\n",
    "d = d1 + [d2 + d3]\n",
    "print(d)\n",
    "#d[1][0] Error\n",
    "print(d[3][1])\n",
    "d = [d1]+[d2]\n",
    "print(d)\n",
    "d = [[d1]+[d2]]\n",
    "print(d)\n",
    "print(d[0][0])"
   ]
  },
  {
   "cell_type": "markdown",
   "id": "d1eecbe8",
   "metadata": {},
   "source": [
    "## 자료형\n",
    "* 튜플\n",
    "* 리스트와의 차이점\n",
    "1. 튜플은 소괄호()로 감싸고 리스트는 대괄호[]로 감싸서 표현한다.\n",
    "2. 튜플은 요소가 한 개만 존재할 때 콤마(,)를 뒤에 붙여줘야한다.\n",
    "3. 리스트는 Muttable, 튜플은 Immutable 이다."
   ]
  },
  {
   "cell_type": "code",
   "execution_count": 37,
   "id": "ae75ab27",
   "metadata": {},
   "outputs": [
    {
     "name": "stdout",
     "output_type": "stream",
     "text": [
      "(1, 2, 3)\n",
      "(1, 2, 3)\n",
      "(1,)\n",
      "(1,)\n",
      "1\n",
      "()\n",
      "('a', 'b', (1, 2))\n",
      "('a', 'b', [1, 2])\n",
      "['a', 'b', (1, 2)]\n"
     ]
    }
   ],
   "source": [
    "#튜플 대입연산\n",
    "target = (1,2,3)\n",
    "print(target)\n",
    "target = 1,2,3\n",
    "print(target)\n",
    "target = (1,)\n",
    "print(target)\n",
    "target = 1,\n",
    "print(target)\n",
    "target = (1) ### 이 경우는 튜플이 아닌 그냥 숫자 1 자료형 1로 취급됨 \n",
    "print(target)\n",
    "target = ()\n",
    "print(target)\n",
    "target = ('a','b',(1,2))\n",
    "print(target)\n",
    "target = ('a','b',[1,2])\n",
    "print(target)\n",
    "target = ['a','b',(1,2)]\n",
    "print(target)"
   ]
  },
  {
   "cell_type": "code",
   "execution_count": 38,
   "id": "f8915ad5",
   "metadata": {},
   "outputs": [
    {
     "name": "stdout",
     "output_type": "stream",
     "text": [
      "3\n",
      "4\n",
      "4\n",
      "3\n",
      "(3, 4)\n",
      "4\n"
     ]
    }
   ],
   "source": [
    "#튜플 응용 예시\n",
    "a, b = 3, 4\n",
    "print(a)\n",
    "print(b)\n",
    "b, a = a, b\n",
    "print(a)\n",
    "print(b)\n",
    "a = 3, 4\n",
    "print(a)\n",
    "a = a[-1]\n",
    "print(a)"
   ]
  }
 ],
 "metadata": {
  "kernelspec": {
   "display_name": "Python 3",
   "language": "python",
   "name": "python3"
  },
  "language_info": {
   "codemirror_mode": {
    "name": "ipython",
    "version": 3
   },
   "file_extension": ".py",
   "mimetype": "text/x-python",
   "name": "python",
   "nbconvert_exporter": "python",
   "pygments_lexer": "ipython3",
   "version": "3.8.8"
  }
 },
 "nbformat": 4,
 "nbformat_minor": 5
}
