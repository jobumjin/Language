{
 "cells": [
  {
   "cell_type": "markdown",
   "id": "2abadfd8",
   "metadata": {},
   "source": [
    "## 클래스 설계, 데코레이터\n",
    "* 개념(객체)에 대한 정의 / 재사용\n",
    "* 클래스 설계\n",
    "    * 멤버 변수 구상(상태값 구상)\n",
    "    * 멤버 변수 구상(기능 구상)\n",
    "    * 멤버 변수 구상(입출력 구상)\n",
    "    * 캡슐화 (멤버 변수 직접 접근은 하지 말자)"
   ]
  },
  {
   "cell_type": "markdown",
   "id": "4519ad77",
   "metadata": {},
   "source": [
    "# 클래스 설계\n",
    "\n",
    "* 멤버 변수 구상\n",
    "```python\n",
    "< calc.py 파일 >\n",
    "class calc:\n",
    "    max_digits = 20\n",
    "    def __init__(self,battery,cur_result,digit_system):\n",
    "        self.battery = bettery\n",
    "        self.cur_result = cur_result\n",
    "        self.prev_results = []\n",
    "        self.prev_calc = None\n",
    "        self.digit_system = digit_system\n",
    "    def add(self,value):\n",
    "        self.prev_results += [self.cur_result]\n",
    "        self.cur_result += value\n",
    "        self.prev_calc = \"sub\"\n",
    "    def get_result(self):\n",
    "        return self.cur_result\n",
    "    def set_result(self,value):\n",
    "        self.cur_result = value\n",
    "```  \n",
    "## 🛠 계산기 완성 🛠  "
   ]
  },
  {
   "cell_type": "markdown",
   "id": "b9c08066",
   "metadata": {},
   "source": [
    "# 데코레이터\n",
    "* 개념(객체)에 대한 정의 / 재사용 , 캡슐화(멤버 변수 직접 접근은 하지말자)... 하지만 멤버 변수를 위한 getter/ setter 함수들을 사용할 때 괄호 쓰기가 지저분하다(귀찮다...)\n",
    "\n",
    "```python\n",
    "< calc.py 파일 >\n",
    "class calc:\n",
    "    max_digits = 20\n",
    "    def __init__(self,battery,cur_result,digit_system):\n",
    "        ### 멤버 변수들 이름 앞에 \"_\" 와 같은것을 붙여서 표시하고 접근 방지 효과\n",
    "        self._battery = bettery     \n",
    "        self._cur_result = cur_result\n",
    "        self._prev_results = []\n",
    "        self._prev_calc = None\n",
    "        self._digit_system = digit_system\n",
    "    def add(self,value):\n",
    "        self.prev_results += [self.cur_result]\n",
    "        self.cur_result += value\n",
    "        self.prev_calc = \"sub\"\n",
    "    @property #property 키워드 붙이고, 함수 이름은 멤버 변수 이름과 유사하게 설정\n",
    "    def cur_result(self):\n",
    "        return self.cur_result\n",
    "    @cur_result.setter #함수명.setter 키워드를 붙이고 함수명은 변수명과 유사하게 설정\n",
    "    def cur_result(self,value):\n",
    "        self.cur_result = value\n",
    "```\n",
    "* 같은 변수에 대해 property 를 먼저 쓰고, setter는 뒤에 써야 함\n",
    "* 여전히 멤버 변수 직접 접근은 가능하다."
   ]
  }
 ],
 "metadata": {
  "kernelspec": {
   "display_name": "Python 3",
   "language": "python",
   "name": "python3"
  },
  "language_info": {
   "codemirror_mode": {
    "name": "ipython",
    "version": 3
   },
   "file_extension": ".py",
   "mimetype": "text/x-python",
   "name": "python",
   "nbconvert_exporter": "python",
   "pygments_lexer": "ipython3",
   "version": "3.8.8"
  }
 },
 "nbformat": 4,
 "nbformat_minor": 5
}
