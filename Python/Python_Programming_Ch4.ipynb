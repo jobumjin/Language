{
 "cells": [
  {
   "cell_type": "markdown",
   "id": "57a91780",
   "metadata": {},
   "source": [
    "## 프로그램 작성\n",
    "* 프로그램 소스 파일 작성, 실행\n",
    "* 주석 #"
   ]
  },
  {
   "cell_type": "markdown",
   "id": "2302f155",
   "metadata": {},
   "source": [
    "## Python 소스 파일 작성 시 주의할 점\n",
    "* 들여쓰기 주의\n",
    "* 파일 인코딩이 UTF-8 (또는 US-ASCII) 이여야 한다\n",
    "    * 확인방법 : file -i 파일이름\n",
    "    * 바꾸는 방법 : vi 에디터에서 , set fileencoding=utf-8 을 수행하고 wq 로 정장 및 종료\n",
    "* 소스코드에 한글을 입출력하는 부분이 포함된 경우\n",
    "    * 파이썬3에서는 큰 문제가 없지만, 파이썬2에서는 인코딩 문제 해결을 위해 문자열앞에 u 를 붙여야함 (ex : u\"가나다\")"
   ]
  },
  {
   "cell_type": "markdown",
   "id": "5ea49d2e",
   "metadata": {},
   "source": [
    "## 함수 디버깅\n",
    "* 함수의 끝은 항상 'return'"
   ]
  },
  {
   "cell_type": "code",
   "execution_count": 1,
   "id": "c29bf22f",
   "metadata": {},
   "outputs": [
    {
     "name": "stdout",
     "output_type": "stream",
     "text": [
      "3\n",
      "6\n",
      "9\n",
      "12\n",
      "15\n",
      "18\n",
      "21\n",
      "24\n",
      "27\n"
     ]
    }
   ],
   "source": [
    "# 구구단 함수\n",
    "def times_table(num):\n",
    "    for x in range(1,10):\n",
    "        print(num * x)\n",
    "        \n",
    "times_table(3)"
   ]
  },
  {
   "cell_type": "code",
   "execution_count": 2,
   "id": "34df312a",
   "metadata": {},
   "outputs": [
    {
     "name": "stdout",
     "output_type": "stream",
     "text": [
      "8\n"
     ]
    }
   ],
   "source": [
    "# 더하기 함수\n",
    "def summation(a,b):\n",
    "    return a + b\n",
    "\n",
    "r = summation(3,5)\n",
    "print(r)"
   ]
  },
  {
   "cell_type": "code",
   "execution_count": 4,
   "id": "6ea2065b",
   "metadata": {},
   "outputs": [
    {
     "name": "stdout",
     "output_type": "stream",
     "text": [
      "9\n"
     ]
    }
   ],
   "source": [
    "def times_table(num):\n",
    "    tab = []\n",
    "    for x in range(1,10):\n",
    "        tab += [num * x]\n",
    "    return tab\n",
    "\n",
    "result = times_table(3)\n",
    "print(result[2])"
   ]
  },
  {
   "cell_type": "code",
   "execution_count": 7,
   "id": "59a6c72e",
   "metadata": {},
   "outputs": [
    {
     "name": "stdout",
     "output_type": "stream",
     "text": [
      "는\n",
      "9\n"
     ]
    }
   ],
   "source": [
    "def times_table(num = 2): ## 함수 인자 기본값(default) 설정 가능\n",
    "    tab = []\n",
    "    for x in range(1, 10):\n",
    "        tab += [num * x]\n",
    "    if num % 2 == 0:\n",
    "        return \"짝수는 안해\"\n",
    "    return tab\n",
    "\n",
    "result = times_table()\n",
    "print(result[2])\n",
    "result = times_table(3)\n",
    "print(result[2])"
   ]
  },
  {
   "cell_type": "code",
   "execution_count": 10,
   "id": "15b678e6",
   "metadata": {},
   "outputs": [
    {
     "name": "stdout",
     "output_type": "stream",
     "text": [
      "4\n",
      "2\n",
      "2\n",
      "4\n",
      "3\n",
      "4\n",
      "5\n"
     ]
    }
   ],
   "source": [
    "def summation(a, b=1): ## 함수 인자 기본값은 오른쪽부터 넣어준다\n",
    "    return a + b\n",
    "print(summation(3))\n",
    "\n",
    "def print_summation(a, b = 1, c = 1):\n",
    "    print(( a + b ) * c)\n",
    "print_summation(1,1,1)\n",
    "print_summation(1)\n",
    "print_summation(1,3)\n",
    "\n",
    "def print_summation1(a = 2, b = 1):\n",
    "    return a + b\n",
    "print(print_summation1())\n",
    "print(print_summation1(3))\n",
    "print(print_summation1(b = 3))"
   ]
  },
  {
   "cell_type": "code",
   "execution_count": 11,
   "id": "6bb7dc39",
   "metadata": {},
   "outputs": [
    {
     "name": "stdout",
     "output_type": "stream",
     "text": [
      "8\n"
     ]
    }
   ],
   "source": [
    "#함수 콜 리턴값 개념정리\n",
    "def getSum(a, b):\n",
    "    return a + b\n",
    "\n",
    "getSum(3,5)\n",
    "print(getSum(3,5))"
   ]
  },
  {
   "cell_type": "code",
   "execution_count": 12,
   "id": "6c20e81e",
   "metadata": {},
   "outputs": [
    {
     "name": "stdout",
     "output_type": "stream",
     "text": [
      "5\n",
      "5\n",
      "None\n"
     ]
    }
   ],
   "source": [
    "def printSum(a,b):\n",
    "    print(a + b)\n",
    "\n",
    "printSum(2,3)\n",
    "k = printSum(2,3)\n",
    "print(k)"
   ]
  },
  {
   "cell_type": "markdown",
   "id": "e209299e",
   "metadata": {},
   "source": [
    "# 내장함수들"
   ]
  },
  {
   "cell_type": "code",
   "execution_count": 13,
   "id": "bd36b57f",
   "metadata": {},
   "outputs": [
    {
     "name": "stdout",
     "output_type": "stream",
     "text": [
      "파이썬 안녕\n",
      "나이 입력 : 20\n"
     ]
    }
   ],
   "source": [
    "#사용자 입력받기\n",
    "a = input()\n",
    "b = input(\"나이 입력 : \")"
   ]
  },
  {
   "cell_type": "code",
   "execution_count": 14,
   "id": "8c4989d6",
   "metadata": {},
   "outputs": [
    {
     "name": "stdout",
     "output_type": "stream",
     "text": [
      "123\n",
      "123\n",
      "[1, 2, 3]\n",
      "파이썬 좋아 123\n",
      "파이썬 좋아END"
     ]
    }
   ],
   "source": [
    "#화면에 출력하기\n",
    "a = 123\n",
    "print(a)\n",
    "a = \"123\"\n",
    "print(a)\n",
    "a = [1,2,3]\n",
    "print(a)\n",
    "print(\"파이썬\",\"좋아\",123)\n",
    "print(\"파이썬\",\"좋아\",end = \"END\")"
   ]
  },
  {
   "cell_type": "code",
   "execution_count": 17,
   "id": "6beb5202",
   "metadata": {},
   "outputs": [
    {
     "name": "stdout",
     "output_type": "stream",
     "text": [
      "1\n",
      "2\n",
      "0\n",
      "-1\n",
      "2\n",
      "happy\n",
      "h,a,p,p,y\n",
      "h a p p y\n"
     ]
    }
   ],
   "source": [
    "#문자열 관련 함수들\n",
    "a = \"happy\"\n",
    "print(a.count(\"a\"))\n",
    "print(a.find('p'))\n",
    "print(a.find(''))\n",
    "print(a.find('z'))\n",
    "print(a.index(\"p\"))\n",
    "print(a)\n",
    "#a.index(\"z\") Error\n",
    "a = ','\n",
    "print(a.join(\"happy\"))\n",
    "print(\" \".join(\"happy\"))"
   ]
  },
  {
   "cell_type": "code",
   "execution_count": 19,
   "id": "0b83b263",
   "metadata": {},
   "outputs": [
    {
     "name": "stdout",
     "output_type": "stream",
     "text": [
      "HAPPY\n",
      "happy\n",
      "happy \n",
      " happy\n",
      "happy\n",
      " habby \n",
      "['hey', 'hey']\n",
      "['h', 'y h', 'y']\n"
     ]
    }
   ],
   "source": [
    "a = \"happy\"\n",
    "print(a.upper())\n",
    "print(\"HAPPY\".lower())\n",
    "a = \" happy \"\n",
    "print(a.lstrip())\n",
    "print(a.rstrip())\n",
    "print(a.strip())\n",
    "print(a.replace(\"p\",\"b\"))\n",
    "a = \"hey hey\"\n",
    "print(a.split())\n",
    "print(a.split(\"e\"))"
   ]
  },
  {
   "cell_type": "code",
   "execution_count": 24,
   "id": "0ccac504",
   "metadata": {},
   "outputs": [
    {
     "name": "stdout",
     "output_type": "stream",
     "text": [
      "파이썬 3최고\n",
      "{파이썬} 2와 3은 다르다\n",
      "파이썬 3와 2은 다르다\n",
      "파이썬 3과 2는 다르다\n",
      "안녕        !\n",
      "        안녕!\n",
      "****안녕****!\n",
      "3.141592\n",
      "3.142\n",
      "3.1416\n"
     ]
    }
   ],
   "source": [
    "#문자열 포맷팅\n",
    "print(\"파이썬 {}최고\".format(3))\n",
    "print(\"{{파이썬}} {}와 {}은 다르다\".format(2, 3))\n",
    "print(\"파이썬 {1}와 {0}은 다르다\".format(2, 3))\n",
    "print(\"파이썬 {number3}과 {number2}는 다르다\".format(number2 = 2, number3 = 3))\n",
    "print(\"{0:<10}!\".format(\"안녕\"))\n",
    "print(\"{0:>10}!\".format(\"안녕\"))\n",
    "print(\"{0:*^10}!\".format(\"안녕\"))\n",
    "pi = 3.141592\n",
    "print(\"{0}\".format(pi))\n",
    "print(\"{0:0.4}\".format(pi))\n",
    "print(\"{0:0.4f}\".format(pi))"
   ]
  },
  {
   "cell_type": "code",
   "execution_count": 26,
   "id": "430b26cb",
   "metadata": {},
   "outputs": [
    {
     "name": "stdout",
     "output_type": "stream",
     "text": [
      "[1, 4, 3, 2]\n",
      "[1, 2, 3, 4]\n",
      "['b', 'c', 'cc']\n",
      "['cc', 'c', 'b']\n",
      "1\n",
      "['ccc', 'cc', 'c', 'b']\n",
      "['ccc', 'b', 'cc', 'c', 'b']\n",
      "['ccc', 'cc', 'c', 'b']\n",
      "b\n",
      "['ccc', 'cc', 'c']\n",
      "cc\n",
      "1\n",
      "None\n",
      "4\n"
     ]
    }
   ],
   "source": [
    "#리스트 관련 함수들\n",
    "a = [1,4,3]\n",
    "a.append(2)\n",
    "print(a)\n",
    "a.sort()\n",
    "print(a)\n",
    "a = [\"cc\",\"b\",\"c\"]\n",
    "a.sort()\n",
    "print(a)\n",
    "a.reverse()\n",
    "print(a)\n",
    "print(a.index('c'))\n",
    "#print(a.index(\"aa\")) Error\n",
    "a.insert(0, \"ccc\")\n",
    "print(a)\n",
    "a.insert(1, \"b\")\n",
    "print(a)\n",
    "a.remove('b')\n",
    "print(a)\n",
    "#print(a.remove(\"a\")) Error\n",
    "print(a.pop())\n",
    "print(a)\n",
    "print(a.pop(1))\n",
    "print(a.count(\"c\"))\n",
    "print(a.extend([\"aaa\",\"a\"]))\n",
    "print(len(a))\n",
    "a = []\n",
    "#print(a.pop()) Error"
   ]
  },
  {
   "cell_type": "code",
   "execution_count": 29,
   "id": "4ed545ac",
   "metadata": {},
   "outputs": [
    {
     "name": "stdout",
     "output_type": "stream",
     "text": [
      "1\n",
      "5\n",
      "0 I\n",
      "1 like\n",
      "2 you\n",
      "3\n",
      "3\n",
      "3\n",
      "0x10\n",
      "0o20\n",
      "8\n",
      "[0, 1, 2, 3, 4]\n",
      "[1, 2, 3, 4]\n",
      "[1, 3]\n",
      "(2, 1)\n",
      "(2.0, 1.0999999999999996)\n"
     ]
    }
   ],
   "source": [
    "#숫자 관련 함수들\n",
    "print(abs(1))\n",
    "print(abs(-5))\n",
    "enumerate([\"I\",\"like\",\"you\"])\n",
    "for num, word in enumerate([\"I\",\"like\",\"you\"]):\n",
    "    print(num, word)\n",
    "print(int(\"3\"))\n",
    "print(int(3.1415))\n",
    "print(int(\"11\",2))\n",
    "print(hex(16))\n",
    "print(oct(16))\n",
    "print(pow(2,3))\n",
    "print(list(range(5)))\n",
    "print(list(range(1,5)))\n",
    "print(list(range(1,5,2)))\n",
    "print(divmod(7,3))\n",
    "print(divmod(7.1,3))"
   ]
  },
  {
   "cell_type": "code",
   "execution_count": 32,
   "id": "0b24056d",
   "metadata": {},
   "outputs": [
    {
     "name": "stdout",
     "output_type": "stream",
     "text": [
      "4\n",
      "4\n",
      "<function <lambda> at 0x00000130DA16D040>\n",
      "<function <lambda> at 0x00000130DA16D040>\n",
      "<function sum at 0x00000130DA14D430>\n",
      "<function sum at 0x00000130DA14D430>\n",
      "8\n",
      "4\n"
     ]
    }
   ],
   "source": [
    "#함수를 간결하게 나타내는 함수 lambda\n",
    "def sum(a,b):return a+b\n",
    "print(sum(1,3))\n",
    "\n",
    "lamsum = lambda a , b: a + b\n",
    "print(lamsum(1,3))\n",
    "\n",
    "a = [lamsum,lamsum,sum,sum]\n",
    "print(a[0])\n",
    "print(a[1])\n",
    "print(a[2])\n",
    "print(a[3])\n",
    "print(a[0](3,5))\n",
    "print(a[3](5,-1))"
   ]
  },
  {
   "cell_type": "code",
   "execution_count": 33,
   "id": "179e845b",
   "metadata": {},
   "outputs": [
    {
     "name": "stdout",
     "output_type": "stream",
     "text": [
      "True\n",
      "False\n",
      "False\n",
      "True\n",
      "a\n",
      "97\n",
      "3\n",
      "3\n",
      "5\n",
      "y\n",
      "1\n",
      "h\n",
      "5\n",
      "py\n",
      "(1, 2)\n",
      "3\n",
      "hipython\n",
      "2\n"
     ]
    }
   ],
   "source": [
    "#기타 등등\n",
    "print(all([1,2,\"bed\"]))\n",
    "print(all([-5,(),30]))\n",
    "print(any([0,\"\"]))\n",
    "print(any([-5,(),30]))\n",
    "print(chr(97))\n",
    "print(ord('a'))\n",
    "print(len(\"abc\"))\n",
    "print(len([1,2,3]))\n",
    "print(max([1,2,3,5]))\n",
    "print(max(\"python\"))\n",
    "print(min([1,2,3,5]))\n",
    "print(min(\"python\"))\n",
    "print(str(5))\n",
    "print(str(\"py\"))\n",
    "print(tuple([1,2]))\n",
    "print(eval(\"1 + 2\"))\n",
    "print(eval('\"hi\" + \"python\"'))\n",
    "print(eval('len(\"ab\")'))"
   ]
  },
  {
   "cell_type": "markdown",
   "id": "4c6b170d",
   "metadata": {},
   "source": [
    "## 디버깅\n",
    "* Software bug\n",
    "    * 예상한 동작을 하지 않고 잘못된 결과를 내거나 오류가 발생하거나 작동이 실패하는 등의 문제를 뜻한다. 버그는 프로그램의 소스 코드나 설계과정에서 발생한 실수와 오류 떄문에 발생한다."
   ]
  }
 ],
 "metadata": {
  "kernelspec": {
   "display_name": "Python 3",
   "language": "python",
   "name": "python3"
  },
  "language_info": {
   "codemirror_mode": {
    "name": "ipython",
    "version": 3
   },
   "file_extension": ".py",
   "mimetype": "text/x-python",
   "name": "python",
   "nbconvert_exporter": "python",
   "pygments_lexer": "ipython3",
   "version": "3.8.8"
  }
 },
 "nbformat": 4,
 "nbformat_minor": 5
}
