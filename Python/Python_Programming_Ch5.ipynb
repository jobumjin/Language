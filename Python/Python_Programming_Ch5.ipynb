{
 "cells": [
  {
   "cell_type": "markdown",
   "id": "56197bd4",
   "metadata": {},
   "source": [
    "## 클래스 객체"
   ]
  },
  {
   "cell_type": "code",
   "execution_count": 3,
   "id": "f68f2777",
   "metadata": {},
   "outputs": [
    {
     "data": {
      "text/plain": [
       "'\\n함수를 사용하여 마린 만들기\\ndef fire(target):\\n    target.hp -= attack_damage\\ndef stimpack():\\n    hp -= 15\\n    attack_rate += 20\\n\\nhp = 100\\nattack_damage = 10\\nattack_rate = 5\\n\\nfire(hydra)\\n'"
      ]
     },
     "execution_count": 3,
     "metadata": {},
     "output_type": "execute_result"
    }
   ],
   "source": [
    "'''\n",
    "함수를 사용하여 마린 만들기\n",
    "def fire(target):\n",
    "    target.hp -= attack_damage\n",
    "def stimpack():\n",
    "    hp -= 15\n",
    "    attack_rate += 20\n",
    "\n",
    "hp = 100\n",
    "attack_damage = 10\n",
    "attack_rate = 5\n",
    "\n",
    "fire(hydra)\n",
    "'''\n",
    "#여러마리의 마린이 여러 히드라를 공격하려면 수많은 파일을 만들어야한다...."
   ]
  },
  {
   "cell_type": "code",
   "execution_count": 6,
   "id": "b82145f5",
   "metadata": {},
   "outputs": [
    {
     "name": "stdout",
     "output_type": "stream",
     "text": [
      "75\n",
      "80\n",
      "hello\n"
     ]
    }
   ],
   "source": [
    "#클래스\n",
    "class Marine:\n",
    "    attack_damage = 10\n",
    "    def __init__(self):  # 멤버함수 생성자 self : 객체 자신\n",
    "        self.hp = 100\n",
    "        self.attack_rate = 5\n",
    "    def fire(self, target):   #멤버함수 fire\n",
    "        target.hp -= Marine.attack_damage\n",
    "    def stimpack(self):   #멤버함수 stimpack\n",
    "        self.hp -= 15\n",
    "        self.attack_rate += 20\n",
    "    def sayhello():   #정적함수 sayhello\n",
    "        print('hello')\n",
    "        \n",
    "m1 = Marine()\n",
    "m2 = Marine()\n",
    "\n",
    "m1.stimpack()\n",
    "m2.fire(m1)\n",
    "m1.fire(m2)\n",
    "m1.fire(m2)\n",
    "\n",
    "print(m1.hp)\n",
    "print(m2.hp)\n",
    "\n",
    "Marine.sayhello()"
   ]
  },
  {
   "cell_type": "code",
   "execution_count": 7,
   "id": "332f3295",
   "metadata": {},
   "outputs": [],
   "source": [
    "m1 = Marine()\n",
    "m2 = Marine()\n",
    "Marine.attack_damage\n",
    "m1.attack_damage\n",
    "m2.attack_damage\n",
    "Marine.attack_damage = 20\n",
    "m2.attack_damage\n",
    "m2.attack_damage = 5\n",
    "Marine.attack_damage\n",
    "m1.attack_damage\n",
    "m2.attack_damage\n",
    "del(m2.attack_damage)"
   ]
  },
  {
   "cell_type": "code",
   "execution_count": 8,
   "id": "952d1fb6",
   "metadata": {},
   "outputs": [
    {
     "name": "stdout",
     "output_type": "stream",
     "text": [
      "20\n",
      "20\n",
      "20\n"
     ]
    }
   ],
   "source": [
    "print(Marine.attack_damage)\n",
    "print(m1.attack_damage)\n",
    "print(m2.attack_damage)"
   ]
  }
 ],
 "metadata": {
  "kernelspec": {
   "display_name": "Python 3",
   "language": "python",
   "name": "python3"
  },
  "language_info": {
   "codemirror_mode": {
    "name": "ipython",
    "version": 3
   },
   "file_extension": ".py",
   "mimetype": "text/x-python",
   "name": "python",
   "nbconvert_exporter": "python",
   "pygments_lexer": "ipython3",
   "version": "3.8.8"
  }
 },
 "nbformat": 4,
 "nbformat_minor": 5
}
