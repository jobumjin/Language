{
 "cells": [
  {
   "cell_type": "markdown",
   "id": "b3f25773",
   "metadata": {},
   "source": [
    "# 날짜, 시간\n",
    "* datetime"
   ]
  },
  {
   "cell_type": "code",
   "execution_count": 1,
   "id": "2b6a65ee",
   "metadata": {},
   "outputs": [
    {
     "name": "stdout",
     "output_type": "stream",
     "text": [
      "2021-12-09\n",
      "2016-12-31\n",
      "True\n",
      "False\n",
      "2015-12-30\n",
      "False\n"
     ]
    }
   ],
   "source": [
    "#date 클래스의 객체 생성\n",
    "import datetime\n",
    "tod = datetime.date.today()\n",
    "print(tod)\n",
    "date1 = datetime.date(2016,12,31)\n",
    "print(date1)\n",
    "date2 = datetime.date(2016,12,31)\n",
    "print(date1 == date2)\n",
    "print(date1 is date2)\n",
    "date3 = datetime.date(2015,12,30)\n",
    "print(date3)\n",
    "print(date1 == date3)\n",
    "## date4 = datetime.date(2015,12,40) Error"
   ]
  },
  {
   "cell_type": "code",
   "execution_count": 2,
   "id": "7847766b",
   "metadata": {},
   "outputs": [
    {
     "name": "stdout",
     "output_type": "stream",
     "text": [
      "2016-12-31\n",
      "2016-12-31\n",
      "2016-12-31\n",
      "Sat Dec 31 00:00:00 2016\n",
      "16/12/31\n"
     ]
    }
   ],
   "source": [
    "#date 객체 문자열 출력\n",
    "import datetime\n",
    "date1 = datetime.date(2016,12,31)\n",
    "print(date1)\n",
    "print(date1.isoformat())\n",
    "print(str(date1))\n",
    "print(date1.ctime())\n",
    "print(date1.strftime(\"%y/%m/%d\"))"
   ]
  },
  {
   "cell_type": "code",
   "execution_count": 3,
   "id": "db57779a",
   "metadata": {},
   "outputs": [
    {
     "name": "stdout",
     "output_type": "stream",
     "text": [
      "2016-12-31\n",
      "2016\n",
      "12\n",
      "31\n",
      "9999-12-31\n",
      "0001-01-01\n",
      "0001-01-01\n",
      "5\n",
      "6\n"
     ]
    }
   ],
   "source": [
    "#date 객체 사용\n",
    "import datetime\n",
    "date1 = datetime.date(2016,12,31)\n",
    "print(date1)\n",
    "print(date1.year)\n",
    "print(date1.month)\n",
    "print(date1.day)\n",
    "print(date1.max)\n",
    "print(date1.min)\n",
    "print(datetime.date.min)\n",
    "print(date1.weekday())\n",
    "print(date1.isoweekday())"
   ]
  },
  {
   "cell_type": "code",
   "execution_count": 4,
   "id": "9162d56b",
   "metadata": {},
   "outputs": [
    {
     "name": "stdout",
     "output_type": "stream",
     "text": [
      "05:00:00\n",
      "05:10:15.003500\n",
      "05:10:00\n",
      "00:10:00\n",
      "23:00:00\n",
      "23:00:00\n",
      "True\n",
      "False\n"
     ]
    }
   ],
   "source": [
    "#time 클래스의 객체 생성\n",
    "import datetime\n",
    "t = datetime.time(5)\n",
    "print(t)  ## 시 분\n",
    "t = datetime.time(5,10,15,3500)\n",
    "print(t)  ## 시 분 초 마이크로초\n",
    "t = datetime.time(hour = 5, minute = 10)\n",
    "print(t)\n",
    "t = datetime.time(minute = 10)\n",
    "print(t)\n",
    "# t = datetime.time(minute = 60)  Error\n",
    "t1 = datetime.time(hour = 23)\n",
    "print(t1)\n",
    "t2 = datetime.time(23, 0)\n",
    "print(t2)\n",
    "print(t1 == t2)\n",
    "print(t1 is t2)"
   ]
  },
  {
   "cell_type": "code",
   "execution_count": 5,
   "id": "50b4ffa4",
   "metadata": {},
   "outputs": [
    {
     "name": "stdout",
     "output_type": "stream",
     "text": [
      "05:53:00\n",
      "05:53:00\n",
      "05:53:00.000100\n",
      "05:53:00.000100\n",
      "05:53:00.000100\n",
      "05:53:00\n"
     ]
    }
   ],
   "source": [
    "#time 객체 문자열 출력\n",
    "import datetime\n",
    "t1 = datetime.time(5,53)\n",
    "print(t1)\n",
    "print(t1.isoformat())\n",
    "t1 = datetime.time(5, 53, 0, 100)\n",
    "print(t1)\n",
    "print(t1.isoformat())\n",
    "print(str(t1))\n",
    "print(t1.strftime(\"%H:%M:%S\"))"
   ]
  },
  {
   "cell_type": "code",
   "execution_count": 6,
   "id": "1501d1d7",
   "metadata": {},
   "outputs": [
    {
     "name": "stdout",
     "output_type": "stream",
     "text": [
      "05:10:00\n",
      "5\n",
      "10\n",
      "0\n",
      "0\n",
      "00:00:00\n",
      "23:59:59.999999\n"
     ]
    }
   ],
   "source": [
    "#time 객체 사용\n",
    "import datetime\n",
    "t = datetime.time(hour = 5, minute = 10)\n",
    "print(t)\n",
    "print(t.hour)\n",
    "print(t.minute)\n",
    "print(t.second)\n",
    "print(t.microsecond)\n",
    "print(datetime.time.min)\n",
    "print(datetime.time.max)"
   ]
  },
  {
   "cell_type": "code",
   "execution_count": 9,
   "id": "2ed5be1b",
   "metadata": {},
   "outputs": [
    {
     "name": "stdout",
     "output_type": "stream",
     "text": [
      "2021-12-09 14:06:45.537197\n",
      "2017-01-01 15:00:00\n",
      "2010-01-01 20:00:00\n",
      "2010-01-01 00:20:00\n",
      "2010-01-01 00:00:00\n"
     ]
    }
   ],
   "source": [
    "#datetime 클래스 (date + time)의 객체 생성\n",
    "import datetime\n",
    "tod = datetime.datetime.today()\n",
    "print(tod)\n",
    "d = datetime.date(2017,1,1)\n",
    "t = datetime.time(15)\n",
    "tod = datetime.datetime.combine(d, t)\n",
    "print(tod)\n",
    "tod = datetime.datetime(2010,1,1,hour = 20)\n",
    "print(tod)\n",
    "#tod = datetime.datetime(2010,1,hour = 20) Error\n",
    "tod = datetime.datetime(2010,1,1,minute= 20)\n",
    "print(tod)\n",
    "tod = datetime.datetime(2010,1,1)\n",
    "print(tod)\n",
    "#tod = datetime.datetime(2010) Error"
   ]
  },
  {
   "cell_type": "code",
   "execution_count": 11,
   "id": "84f385b9",
   "metadata": {},
   "outputs": [
    {
     "name": "stdout",
     "output_type": "stream",
     "text": [
      "2010-01-01 20:00:00\n",
      "1\n",
      "20\n",
      "4\n",
      "(2009, 53, 5)\n",
      "time.struct_time(tm_year=2010, tm_mon=1, tm_mday=1, tm_hour=20, tm_min=0, tm_sec=0, tm_wday=4, tm_yday=1, tm_isdst=-1)\n",
      "0001-01-01 00:00:00\n",
      "9999-12-31 23:59:59.999999\n"
     ]
    }
   ],
   "source": [
    "# datetime 객체 사용\n",
    "import datetime\n",
    "d = datetime.datetime(2010, 1, 1, hour =20)\n",
    "print(d)\n",
    "print(d.month)\n",
    "print(d.hour)\n",
    "print(d.weekday())\n",
    "print(d.isocalendar())\n",
    "print(d.timetuple())\n",
    "print(datetime.datetime.min)\n",
    "print(datetime.datetime.max)"
   ]
  },
  {
   "cell_type": "code",
   "execution_count": 14,
   "id": "eec0ce6f",
   "metadata": {},
   "outputs": [
    {
     "name": "stdout",
     "output_type": "stream",
     "text": [
      "2010-01-01 20:00:00\n",
      "2010-01-01T20:00:00\n",
      "2010-01-01 20:00:00\n",
      "Fri Jan  1 20:00:00 2010\n",
      "10-01-01T20:00:00\n"
     ]
    }
   ],
   "source": [
    "#datetime 객체 문자열 출력\n",
    "import datetime\n",
    "d = datetime.datetime(2010,1,1,hour = 20)\n",
    "print(d)\n",
    "print(d.isoformat())\n",
    "print(str(d))\n",
    "print(d.ctime())\n",
    "print(d.strftime(\"%y-%m-%dT%H:%M:%S\"))"
   ]
  },
  {
   "cell_type": "code",
   "execution_count": 16,
   "id": "af5b4581",
   "metadata": {},
   "outputs": [
    {
     "name": "stdout",
     "output_type": "stream",
     "text": [
      "1 day, 0:00:00\n",
      "1 day, 0:00:00\n",
      "-1 day, 0:00:00\n",
      "5:00:00\n",
      "9 days, 2:30:00\n",
      "9 days, 2:28:20\n",
      "0:00:01.099950\n",
      "True\n"
     ]
    }
   ],
   "source": [
    "#timedalta 클래스의 객체 생성\n",
    "import datetime\n",
    "td = datetime.timedelta(days = 1)\n",
    "print(td)\n",
    "td = datetime.timedelta(1)\n",
    "print(td)\n",
    "td = datetime.timedelta(days = -1)\n",
    "print(td)\n",
    "td = datetime.timedelta(hours = 5)\n",
    "print(td)\n",
    "td = datetime.timedelta(weeks = 1, days = 2, hours = 2, minutes = 30)\n",
    "print(td)\n",
    "td = datetime.timedelta(weeks = 1, days = 2, hours = 2, minutes = 30, seconds = -100)\n",
    "print(td)\n",
    "td = datetime.timedelta(seconds = 1, milliseconds = 100, microseconds = -50)\n",
    "print(td)\n",
    "print(datetime.timedelta(seconds = 1) == datetime.timedelta(seconds = 1))"
   ]
  },
  {
   "cell_type": "code",
   "execution_count": 17,
   "id": "43752128",
   "metadata": {},
   "outputs": [
    {
     "name": "stdout",
     "output_type": "stream",
     "text": [
      "1 day, 0:00:00\n",
      "-3 days, 0:00:00\n",
      "-2 days, 0:00:00\n",
      "4 days, 0:00:00\n",
      "6 days, 0:00:00\n",
      "2 days, 12:00:00\n",
      "2017-01-02\n",
      "2017-01-02\n",
      "1 day, 0:00:00\n",
      "True\n",
      "True\n"
     ]
    }
   ],
   "source": [
    "#timedelta 객체 사용\n",
    "import datetime\n",
    "td1 = datetime.timedelta(days = 1)\n",
    "print(td1)\n",
    "td2 = datetime.timedelta(days = -3)\n",
    "print(td2)\n",
    "td3 = td1 + td2\n",
    "print(td3)\n",
    "td4 = td1 - td2\n",
    "print(td4)\n",
    "td5 = td1*3 - td2\n",
    "print(td5)\n",
    "td6 = datetime.timedelta(days = 5) / 2\n",
    "print(td6)\n",
    "d = datetime.date(2017,1,1)\n",
    "print(d + td1)\n",
    "t = datetime.time(5)\n",
    "# t + td1 Error\n",
    "# t + datetime.timedelta(hours = 2) Error\n",
    "d2 = d + td1\n",
    "print(d2)\n",
    "td7 = d2 - d\n",
    "print(td7)\n",
    "print(td7 == td1)\n",
    "print(td2 < td1)"
   ]
  }
 ],
 "metadata": {
  "kernelspec": {
   "display_name": "Python 3",
   "language": "python",
   "name": "python3"
  },
  "language_info": {
   "codemirror_mode": {
    "name": "ipython",
    "version": 3
   },
   "file_extension": ".py",
   "mimetype": "text/x-python",
   "name": "python",
   "nbconvert_exporter": "python",
   "pygments_lexer": "ipython3",
   "version": "3.8.8"
  }
 },
 "nbformat": 4,
 "nbformat_minor": 5
}
